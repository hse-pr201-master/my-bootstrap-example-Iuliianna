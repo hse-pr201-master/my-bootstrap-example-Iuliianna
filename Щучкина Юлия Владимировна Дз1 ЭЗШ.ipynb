{
 "cells": [
  {
   "cell_type": "code",
   "execution_count": 43,
   "id": "51737912",
   "metadata": {
    "scrolled": true
   },
   "outputs": [
    {
     "data": {
      "text/html": [
       "<div>\n",
       "<style scoped>\n",
       "    .dataframe tbody tr th:only-of-type {\n",
       "        vertical-align: middle;\n",
       "    }\n",
       "\n",
       "    .dataframe tbody tr th {\n",
       "        vertical-align: top;\n",
       "    }\n",
       "\n",
       "    .dataframe thead th {\n",
       "        text-align: right;\n",
       "    }\n",
       "</style>\n",
       "<table border=\"1\" class=\"dataframe\">\n",
       "  <thead>\n",
       "    <tr style=\"text-align: right;\">\n",
       "      <th></th>\n",
       "      <th>Date</th>\n",
       "      <th>Crude oil, Brent</th>\n",
       "      <th>Crude oil, Dubai</th>\n",
       "    </tr>\n",
       "  </thead>\n",
       "  <tbody>\n",
       "    <tr>\n",
       "      <th>0</th>\n",
       "      <td>2015M02</td>\n",
       "      <td>57.93</td>\n",
       "      <td>55.83</td>\n",
       "    </tr>\n",
       "    <tr>\n",
       "      <th>1</th>\n",
       "      <td>2015M03</td>\n",
       "      <td>55.79</td>\n",
       "      <td>54.91</td>\n",
       "    </tr>\n",
       "    <tr>\n",
       "      <th>2</th>\n",
       "      <td>2015M04</td>\n",
       "      <td>59.39</td>\n",
       "      <td>58.80</td>\n",
       "    </tr>\n",
       "    <tr>\n",
       "      <th>3</th>\n",
       "      <td>2015M05</td>\n",
       "      <td>64.56</td>\n",
       "      <td>63.69</td>\n",
       "    </tr>\n",
       "    <tr>\n",
       "      <th>4</th>\n",
       "      <td>2015M06</td>\n",
       "      <td>62.34</td>\n",
       "      <td>61.78</td>\n",
       "    </tr>\n",
       "  </tbody>\n",
       "</table>\n",
       "</div>"
      ],
      "text/plain": [
       "      Date  Crude oil, Brent  Crude oil, Dubai\n",
       "0  2015M02             57.93             55.83\n",
       "1  2015M03             55.79             54.91\n",
       "2  2015M04             59.39             58.80\n",
       "3  2015M05             64.56             63.69\n",
       "4  2015M06             62.34             61.78"
      ]
     },
     "execution_count": 43,
     "metadata": {},
     "output_type": "execute_result"
    }
   ],
   "source": [
    "import pandas as pd\n",
    "df = pd.read_excel(\"data_for_bootstrap.xlsx\")\n",
    "df.head()"
   ]
  },
  {
   "cell_type": "markdown",
   "id": "f3898236",
   "metadata": {},
   "source": [
    "### две связанные выборки: цены на нефть Brent и Dubai с 2015 по 2023 год (100 наблюдений) => используем бутстреп для связанных выборок (хотим понять, насколько сильно цены на нефть разных марок коррелируют между собой)\n"
   ]
  },
  {
   "cell_type": "code",
   "execution_count": 44,
   "id": "1d40cf50",
   "metadata": {},
   "outputs": [],
   "source": [
    "import numpy as np"
   ]
  },
  {
   "cell_type": "code",
   "execution_count": 45,
   "id": "0307ca3e",
   "metadata": {
    "scrolled": true
   },
   "outputs": [
    {
     "name": "stdout",
     "output_type": "stream",
     "text": [
      "Requirement already satisfied: arch in c:\\users\\admin\\anaconda3\\lib\\site-packages (6.2.0)\n",
      "Requirement already satisfied: scipy>=1.5 in c:\\users\\admin\\anaconda3\\lib\\site-packages (from arch) (1.7.1)\n",
      "Requirement already satisfied: statsmodels>=0.12 in c:\\users\\admin\\anaconda3\\lib\\site-packages (from arch) (0.12.2)\n",
      "Requirement already satisfied: numpy>=1.19 in c:\\users\\admin\\anaconda3\\lib\\site-packages (from arch) (1.22.4)\n",
      "Requirement already satisfied: pandas>=1.1 in c:\\users\\admin\\anaconda3\\lib\\site-packages (from arch) (1.3.4)\n",
      "Requirement already satisfied: pytz>=2017.3 in c:\\users\\admin\\anaconda3\\lib\\site-packages (from pandas>=1.1->arch) (2021.3)\n",
      "Requirement already satisfied: python-dateutil>=2.7.3 in c:\\users\\admin\\anaconda3\\lib\\site-packages (from pandas>=1.1->arch) (2.8.2)\n",
      "Requirement already satisfied: six>=1.5 in c:\\users\\admin\\anaconda3\\lib\\site-packages (from python-dateutil>=2.7.3->pandas>=1.1->arch) (1.16.0)\n",
      "Requirement already satisfied: patsy>=0.5 in c:\\users\\admin\\anaconda3\\lib\\site-packages (from statsmodels>=0.12->arch) (0.5.2)\n"
     ]
    }
   ],
   "source": [
    "!pip install arch"
   ]
  },
  {
   "cell_type": "code",
   "execution_count": 46,
   "id": "76a530d5",
   "metadata": {},
   "outputs": [],
   "source": [
    "from arch.bootstrap import IIDBootstrap, IndependentSamplesBootstrap"
   ]
  },
  {
   "cell_type": "code",
   "execution_count": 47,
   "id": "bcba9568",
   "metadata": {},
   "outputs": [],
   "source": [
    "rng = np.random.default_rng(111111)"
   ]
  },
  {
   "cell_type": "code",
   "execution_count": 48,
   "id": "1ed9454e",
   "metadata": {},
   "outputs": [
    {
     "data": {
      "text/plain": [
       "array([ 57.93,  55.79,  59.39,  64.56,  62.34,  55.87,  46.99,  47.24,\n",
       "        48.12,  44.42,  37.72,  30.8 ,  33.2 ,  39.07,  42.25,  47.13,\n",
       "        48.48,  45.07,  46.14,  46.19,  49.73,  46.44,  54.07,  54.89,\n",
       "        55.49,  51.97,  52.98,  50.87,  46.89,  48.69,  51.37,  55.16,\n",
       "        57.62,  62.57,  64.21,  68.99,  65.42,  66.45,  71.63,  76.65,\n",
       "        75.19,  74.44,  73.13,  78.86,  80.47,  65.17,  56.46,  59.27,\n",
       "        64.13,  66.41,  71.2 ,  70.53,  63.3 ,  64.  ,  59.25,  62.33,\n",
       "        59.37,  62.74,  65.85,  63.6 ,  55.  ,  32.98,  23.34,  31.02,\n",
       "        39.93,  42.81,  44.26,  41.09,  40.47,  43.23,  49.87,  54.55,\n",
       "        61.96,  65.19,  64.77,  68.04,  73.07,  74.39,  70.02,  74.6 ,\n",
       "        83.65,  80.77,  74.31,  85.53,  95.76, 115.59, 105.78, 112.37,\n",
       "       120.08, 108.92,  98.6 ,  90.16,  93.13,  91.07,  80.9 ,  83.09,\n",
       "        82.71,  78.53,  84.11,  75.7 ])"
      ]
     },
     "execution_count": 48,
     "metadata": {},
     "output_type": "execute_result"
    }
   ],
   "source": [
    "x = np.array(df['Crude oil, Brent'])\n",
    "x"
   ]
  },
  {
   "cell_type": "code",
   "execution_count": 49,
   "id": "5647f9ec",
   "metadata": {},
   "outputs": [
    {
     "data": {
      "text/plain": [
       "array([ 55.83,  54.91,  58.8 ,  63.69,  61.78,  56.25,  47.22,  46.15,\n",
       "        46.55,  42.22,  34.77,  27.  ,  29.5 ,  35.18,  39.04,  43.95,\n",
       "        45.83,  42.62,  43.74,  43.74,  48.26,  43.77,  51.78,  53.37,\n",
       "        54.17,  51.16,  52.45,  50.31,  46.44,  47.63,  50.43,  53.86,\n",
       "        55.58,  60.58,  61.41,  66.02,  62.79,  63.29,  68.43,  73.66,\n",
       "        73.22,  72.72,  72.13,  77.02,  78.96,  65.11,  56.47,  58.96,\n",
       "        64.32,  66.8 ,  70.66,  69.13,  61.3 ,  62.91,  58.92,  60.84,\n",
       "        58.47,  61.41,  64.41,  63.76,  54.51,  33.75,  23.27,  31.56,\n",
       "        40.14,  42.64,  43.71,  41.1 ,  39.7 ,  42.58,  49.26,  54.16,\n",
       "        60.37,  63.95,  62.37,  65.98,  70.96,  73.  ,  68.85,  72.24,\n",
       "        81.22,  79.8 ,  72.76,  83.11,  93.13, 113.11, 102.68, 108.32,\n",
       "       115.73, 106.48,  97.75,  90.63,  90.59,  86.28,  76.78,  80.03,\n",
       "        81.21,  77.52,  83.83,  75.08])"
      ]
     },
     "execution_count": 49,
     "metadata": {},
     "output_type": "execute_result"
    }
   ],
   "source": [
    "y = np.array(df['Crude oil, Dubai'])\n",
    "y"
   ]
  },
  {
   "cell_type": "code",
   "execution_count": 50,
   "id": "e28b15af",
   "metadata": {},
   "outputs": [
    {
     "data": {
      "text/plain": [
       "array([76, 34, 55, 66, 42, 89, 22, 55,  1, 40, 69, 28, 22, 85, 62, 68, 47,\n",
       "        6, 84, 98, 46, 89, 28, 95, 95, 25, 61, 15, 74,  2, 93, 15, 10, 31,\n",
       "       16, 35, 58, 47, 16, 86, 64, 79, 79, 30, 23, 23, 47, 69, 13, 27,  2,\n",
       "       59, 46, 87, 50, 38,  4,  9, 14, 79, 61, 13, 78, 25, 71, 96, 61, 78,\n",
       "       72, 97, 65, 45, 58, 10, 39, 47, 91, 40,  9, 67, 23, 75, 13, 67, 29,\n",
       "       30, 35, 22,  3, 78, 62, 76, 12, 53, 95, 79, 80, 19, 46, 80])"
      ]
     },
     "execution_count": 50,
     "metadata": {},
     "output_type": "execute_result"
    }
   ],
   "source": [
    "obs_id = rng.choice(range(100), size=100)\n",
    "obs_id"
   ]
  },
  {
   "cell_type": "code",
   "execution_count": 51,
   "id": "4adf941d",
   "metadata": {
    "scrolled": true
   },
   "outputs": [
    {
     "data": {
      "text/plain": [
       "array([ 73.07,  64.21,  62.33,  44.26,  73.13, 108.92,  54.07,  62.33,\n",
       "        55.79,  75.19,  43.23,  46.89,  54.07, 115.59,  23.34,  40.47,\n",
       "        59.27,  46.99,  95.76,  84.11,  56.46, 108.92,  46.89,  83.09,\n",
       "        83.09,  51.97,  32.98,  47.13,  64.77,  59.39,  91.07,  47.13,\n",
       "        37.72,  55.16,  48.48,  68.99,  65.85,  59.27,  48.48, 105.78,\n",
       "        39.93,  74.6 ,  74.6 ,  51.37,  54.89,  54.89,  59.27,  43.23,\n",
       "        39.07,  50.87,  59.39,  63.6 ,  56.46, 112.37,  71.2 ,  71.63,\n",
       "        62.34,  44.42,  42.25,  74.6 ,  32.98,  39.07,  70.02,  51.97,\n",
       "        54.55,  82.71,  32.98,  70.02,  61.96,  78.53,  42.81,  65.17,\n",
       "        65.85,  37.72,  76.65,  59.27,  90.16,  75.19,  44.42,  41.09,\n",
       "        54.89,  68.04,  39.07,  41.09,  48.69,  51.37,  68.99,  54.07,\n",
       "        64.56,  70.02,  23.34,  73.07,  33.2 ,  64.  ,  83.09,  74.6 ,\n",
       "        83.65,  46.19,  56.46,  83.65])"
      ]
     },
     "execution_count": 51,
     "metadata": {},
     "output_type": "execute_result"
    }
   ],
   "source": [
    "x_star1 = x[obs_id]\n",
    "x_star1"
   ]
  },
  {
   "cell_type": "code",
   "execution_count": 52,
   "id": "31e75d5d",
   "metadata": {
    "scrolled": true
   },
   "outputs": [
    {
     "data": {
      "text/plain": [
       "array([ 70.96,  61.41,  60.84,  43.71,  72.13, 106.48,  51.78,  60.84,\n",
       "        54.91,  73.22,  42.58,  46.44,  51.78, 113.11,  23.27,  39.7 ,\n",
       "        58.96,  47.22,  93.13,  83.83,  56.47, 106.48,  46.44,  80.03,\n",
       "        80.03,  51.16,  33.75,  43.95,  62.37,  58.8 ,  86.28,  43.95,\n",
       "        34.77,  53.86,  45.83,  66.02,  64.41,  58.96,  45.83, 102.68,\n",
       "        40.14,  72.24,  72.24,  50.43,  53.37,  53.37,  58.96,  42.58,\n",
       "        35.18,  50.31,  58.8 ,  63.76,  56.47, 108.32,  70.66,  68.43,\n",
       "        61.78,  42.22,  39.04,  72.24,  33.75,  35.18,  68.85,  51.16,\n",
       "        54.16,  81.21,  33.75,  68.85,  60.37,  77.52,  42.64,  65.11,\n",
       "        64.41,  34.77,  73.66,  58.96,  90.63,  73.22,  42.22,  41.1 ,\n",
       "        53.37,  65.98,  35.18,  41.1 ,  47.63,  50.43,  66.02,  51.78,\n",
       "        63.69,  68.85,  23.27,  70.96,  29.5 ,  62.91,  80.03,  72.24,\n",
       "        81.22,  43.74,  56.47,  81.22])"
      ]
     },
     "execution_count": 52,
     "metadata": {},
     "output_type": "execute_result"
    }
   ],
   "source": [
    "y_star1 = y[obs_id]\n",
    "y_star1"
   ]
  },
  {
   "cell_type": "code",
   "execution_count": 53,
   "id": "065e4b10",
   "metadata": {},
   "outputs": [],
   "source": [
    "def corr(x, y):\n",
    "    corr_matrix = np.corrcoef(x, y)\n",
    "    return corr_matrix[0,1]"
   ]
  },
  {
   "cell_type": "code",
   "execution_count": 54,
   "id": "7de1208a",
   "metadata": {},
   "outputs": [
    {
     "data": {
      "text/plain": [
       "0.9979852664214496"
      ]
     },
     "execution_count": 54,
     "metadata": {},
     "output_type": "execute_result"
    }
   ],
   "source": [
    "corr(x_star1, y_star1)\n",
    "# посчитали первый шаг бутстрепа вручную"
   ]
  },
  {
   "cell_type": "code",
   "execution_count": 55,
   "id": "e6b4435a",
   "metadata": {},
   "outputs": [
    {
     "data": {
      "text/plain": [
       "array([[0.9974835],\n",
       "       [0.9988406]])"
      ]
     },
     "execution_count": 55,
     "metadata": {},
     "output_type": "execute_result"
    }
   ],
   "source": [
    "boot_xy = IIDBootstrap(x, y, seed=111111)\n",
    "boot_xy.conf_int(corr, method='basic', reps=10000, size=0.95)\n",
    "#с помощью бутстрепа получили интервал для корреляции марок Brent и Dubai"
   ]
  },
  {
   "cell_type": "markdown",
   "id": "ce5da629",
   "metadata": {},
   "source": [
    "### Вывод: как и следовало ожидать, цены на нефть разных марок имеют сильную положительную линейную взаимосвязь, т.е. у марок Brent и Dubai будет одинаковая реакция на мировое изменение уровня цен."
   ]
  }
 ],
 "metadata": {
  "kernelspec": {
   "display_name": "Python 3 (ipykernel)",
   "language": "python",
   "name": "python3"
  },
  "language_info": {
   "codemirror_mode": {
    "name": "ipython",
    "version": 3
   },
   "file_extension": ".py",
   "mimetype": "text/x-python",
   "name": "python",
   "nbconvert_exporter": "python",
   "pygments_lexer": "ipython3",
   "version": "3.9.7"
  }
 },
 "nbformat": 4,
 "nbformat_minor": 5
}
